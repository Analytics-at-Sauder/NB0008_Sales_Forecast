{
 "cells": [
  {
   "cell_type": "code",
   "execution_count": 1,
   "metadata": {},
   "outputs": [
    {
     "data": {
      "application/vnd.jupyter.widget-view+json": {
       "model_id": "c043191fd40f478786c8633d5eed1d79",
       "version_major": 2,
       "version_minor": 0
      },
      "text/plain": [
       "interactive(children=(Dropdown(description='store_num', options={1: 1, 2: 2, 3: 3, 4: 4, 5: 5, 6: 6, 7: 7, 8: …"
      ]
     },
     "metadata": {},
     "output_type": "display_data"
    },
    {
     "data": {
      "text/plain": [
       "<function __main__.sales_viz(store_num, dept_num)>"
      ]
     },
     "metadata": {},
     "output_type": "display_data"
    }
   ],
   "source": [
    "import pandas as pd\n",
    "import matplotlib.pyplot as plt\n",
    "# ipywidgets are used to make interactive contents in Jupyter notebooks\n",
    "from ipywidgets import interact\n",
    "\n",
    "df_sales = pd.read_csv('Data/sales.csv')\n",
    "# converting the date column (initally stored as strings) to dates\n",
    "df_sales['Date'] = pd.to_datetime(df_sales['Date'], format='%d/%m/%Y')\n",
    "\n",
    "def sales_viz(store_num, dept_num):\n",
    "    fig, axes = plt.subplots(1,2, figsize=(10,3), dpi=100)\n",
    "    # Subset the data based on store and department numbers\n",
    "    sales_temp = df_sales[(df_sales.Store==store_num) & (df_sales.Dept==dept_num)][['Date', 'Weekly_Sales']]\n",
    "    # Create time series dataframe by using date as index\n",
    "    ts_sales_temp = sales_temp.set_index('Date')\n",
    "    ts_sales_temp.plot(ax=axes[0], legend=False)\n",
    "    ts_sales_temp.hist(ax=axes[1], bins=100)\n",
    "    display(ts_sales_temp.describe().transpose().round(2))\n",
    "    plt.show()\n",
    "    return\n",
    "\n",
    "display(interact(sales_viz, store_num={n:n for n in range(1,46)}, dept_num={n:n for n in range(1,100)}))"
   ]
  }
 ],
 "metadata": {
  "kernelspec": {
   "display_name": "Python 3",
   "language": "python",
   "name": "python3"
  },
  "language_info": {
   "codemirror_mode": {
    "name": "ipython",
    "version": 3
   },
   "file_extension": ".py",
   "mimetype": "text/x-python",
   "name": "python",
   "nbconvert_exporter": "python",
   "pygments_lexer": "ipython3",
   "version": "3.7.7"
  },
  "toc": {
   "base_numbering": 1,
   "nav_menu": {},
   "number_sections": false,
   "sideBar": true,
   "skip_h1_title": false,
   "title_cell": "Table of Contents",
   "title_sidebar": "Contents",
   "toc_cell": false,
   "toc_position": {},
   "toc_section_display": true,
   "toc_window_display": false
  }
 },
 "nbformat": 4,
 "nbformat_minor": 4
}
