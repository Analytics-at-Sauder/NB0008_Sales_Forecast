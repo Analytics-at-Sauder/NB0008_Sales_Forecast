{
 "cells": [
  {
   "cell_type": "code",
   "execution_count": 1,
   "metadata": {},
   "outputs": [
    {
     "data": {
      "application/vnd.jupyter.widget-view+json": {
       "model_id": "5c4837c0d5f2421197e34466a9e3f6da",
       "version_major": 2,
       "version_minor": 0
      },
      "text/plain": [
       "interactive(children=(Dropdown(description='store_num', options={1: 1, 2: 2, 3: 3, 4: 4, 5: 5, 6: 6, 7: 7, 8: …"
      ]
     },
     "metadata": {},
     "output_type": "display_data"
    },
    {
     "data": {
      "text/plain": [
       "<function __main__.stl_viz(store_num, dept_num)>"
      ]
     },
     "metadata": {},
     "output_type": "display_data"
    }
   ],
   "source": [
    "import pandas as pd\n",
    "import matplotlib.pyplot as plt\n",
    "# ipywidgets are used to make interactive contents in Jupyter notebooks\n",
    "from ipywidgets import interact\n",
    "from statsmodels.tsa.seasonal import STL\n",
    "\n",
    "df_sales = pd.read_csv('Data/sales.csv')\n",
    "# converting the date column (initally stored as strings) to dates\n",
    "df_sales['Date'] = pd.to_datetime(df_sales['Date'], format='%d/%m/%Y')\n",
    "\n",
    "def stl_viz(store_num, dept_num):\n",
    "    try:\n",
    "        # Subsetting data according to store and department number\n",
    "        sales_temp = df_sales[(df_sales.Store==store_num)&(df_sales.Dept==dept_num)]\n",
    "        # Transform dataframe into time series\n",
    "        sales_temp_ts = sales_temp.set_index('Date')['Weekly_Sales']\n",
    "        # Decompose the data\n",
    "        stl_temp = STL(sales_temp_ts).fit()\n",
    "        # Set up plot\n",
    "        plt.rc('figure',figsize=(12,8))\n",
    "        plot_temp = stl_temp.plot()\n",
    "        plt.show()\n",
    "        return \n",
    "    except:\n",
    "        # Error message for when store-department combination doesn't exist\n",
    "        print(\"ERROR: There is no Department {} in Store {}\".format(store_num, dept_num))\n",
    "        return\n",
    "\n",
    "display(interact(stl_viz, store_num={n:n for n in range(1,46)}, dept_num={n:n for n in range(1,100)}))"
   ]
  }
 ],
 "metadata": {
  "kernelspec": {
   "display_name": "Python 3",
   "language": "python",
   "name": "python3"
  },
  "language_info": {
   "codemirror_mode": {
    "name": "ipython",
    "version": 3
   },
   "file_extension": ".py",
   "mimetype": "text/x-python",
   "name": "python",
   "nbconvert_exporter": "python",
   "pygments_lexer": "ipython3",
   "version": "3.7.7"
  },
  "toc": {
   "base_numbering": 1,
   "nav_menu": {},
   "number_sections": false,
   "sideBar": true,
   "skip_h1_title": false,
   "title_cell": "Table of Contents",
   "title_sidebar": "Contents",
   "toc_cell": false,
   "toc_position": {},
   "toc_section_display": true,
   "toc_window_display": false
  }
 },
 "nbformat": 4,
 "nbformat_minor": 4
}
